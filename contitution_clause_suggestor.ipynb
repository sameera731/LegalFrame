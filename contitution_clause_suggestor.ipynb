{
 "cells": [
  {
   "cell_type": "code",
   "execution_count": 7,
   "id": "a0ba23b7-b057-4c9b-ac09-14ca82b34001",
   "metadata": {},
   "outputs": [
    {
     "name": "stdout",
     "output_type": "stream",
     "text": [
      "Total clauses loaded: 30\n",
      "First clause: {'article': 'Article 12', 'title': 'Definition of the State', 'keywords': ['government', 'state', 'authority', 'public', 'statutory body', 'parliament', 'legislature', 'executive', 'administration']}\n"
     ]
    }
   ],
   "source": [
    "import json\n",
    "with open(\"constitution.json\", \"r\", encoding=\"utf-8\") as f:\n",
    "    clauses = json.load(f)\n",
    "\n",
    "print(\"Total clauses loaded:\", len(clauses))"
   ]
  },
  {
   "cell_type": "code",
   "execution_count": 17,
   "id": "f5784bd3-e050-4e80-aa11-9800b61d5cfc",
   "metadata": {},
   "outputs": [],
   "source": [
    "def suggest_clauses(case_description):\n",
    "    suggestions=[]\n",
    "    case_text=case_description.lower()\n",
    "    \n",
    "    for clause in clauses:\n",
    "        for keyword in clause[\"keywords\"]:\n",
    "            if keyword.lower() in case_text:\n",
    "                suggestions.append(clause)\n",
    "                break \n",
    "    return suggestions"
   ]
  },
  {
   "cell_type": "code",
   "execution_count": null,
   "id": "01d661e0-3a1c-4f7a-871a-b1f778863f9c",
   "metadata": {},
   "outputs": [],
   "source": [
    "case_text =input(\"Enter case description: \")\n",
    "    \n",
    "results=suggest_clauses(case_text)\n",
    "\n",
    "if results:\n",
    "    print(\"\\nSuggested Clauses:\")\n",
    "    for r in results:\n",
    "        print(f\"{r['article']}: {r['title']}\")\n",
    "else:\n",
    "    print(\"No relevant clause found.\\n\")"
   ]
  },
  {
   "cell_type": "code",
   "execution_count": null,
   "id": "4c5112d7-9192-408e-9b8b-f6e48f40e43a",
   "metadata": {},
   "outputs": [],
   "source": []
  }
 ],
 "metadata": {
  "kernelspec": {
   "display_name": "Python 3 (ipykernel)",
   "language": "python",
   "name": "python3"
  },
  "language_info": {
   "codemirror_mode": {
    "name": "ipython",
    "version": 3
   },
   "file_extension": ".py",
   "mimetype": "text/x-python",
   "name": "python",
   "nbconvert_exporter": "python",
   "pygments_lexer": "ipython3",
   "version": "3.12.4"
  },
  "widgets": {
   "application/vnd.jupyter.widget-state+json": {
    "state": {},
    "version_major": 2,
    "version_minor": 0
   }
  }
 },
 "nbformat": 4,
 "nbformat_minor": 5
}
